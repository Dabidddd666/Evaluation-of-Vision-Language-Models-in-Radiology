{
 "cells": [
  {
   "cell_type": "code",
   "execution_count": 1,
   "id": "524218c7-7102-4b18-a063-294bebc1f117",
   "metadata": {},
   "outputs": [
    {
     "name": "stdout",
     "output_type": "stream",
     "text": [
      "['my_env', 'conda_pkgs', 'med_flamingo_project', 'fastmri_prostate_DICOMS_IDS_001_312.tar', 'knee_singlecoil_test (2).tar', 'my_projectcd', 'my_project', 'fastmri_prostate_DICOMS_IDS_001_312', 'pytorch-example']\n"
     ]
    }
   ],
   "source": [
    "import os\n",
    "\n",
    "data_path = '/scratch/sd4175/'\n",
    "\n",
    "files = os.listdir(data_path)\n",
    "print(files)"
   ]
  },
  {
   "cell_type": "code",
   "execution_count": 2,
   "id": "28e0e14d-ed7b-4d7b-a2c9-2bc1ec2b0c98",
   "metadata": {},
   "outputs": [
    {
     "name": "stdout",
     "output_type": "stream",
     "text": [
      "Extraction complete.\n"
     ]
    }
   ],
   "source": [
    "import tarfile\n",
    "import os\n",
    "\n",
    "# Define paths\n",
    "tar_path = '/scratch/sd4175/fastmri_prostate_DICOMS_IDS_001_312.tar'\n",
    "extract_path = '/scratch/sd4175/fastmri_prostate_DICOMS_IDS_001_312/'\n",
    "\n",
    "# Extract the tar file\n",
    "with tarfile.open(tar_path, 'r') as tar:\n",
    "    tar.extractall(path=extract_path)\n",
    "\n",
    "print(\"Extraction complete.\")"
   ]
  },
  {
   "cell_type": "code",
   "execution_count": 3,
   "id": "37217371-5ecc-4ab6-b114-f6926bb1dc9e",
   "metadata": {},
   "outputs": [
    {
     "name": "stdout",
     "output_type": "stream",
     "text": [
      "[]\n"
     ]
    },
    {
     "ename": "IndexError",
     "evalue": "list index out of range",
     "output_type": "error",
     "traceback": [
      "\u001b[0;31m---------------------------------------------------------------------------\u001b[0m",
      "\u001b[0;31mIndexError\u001b[0m                                Traceback (most recent call last)",
      "Cell \u001b[0;32mIn[3], line 10\u001b[0m\n\u001b[1;32m      7\u001b[0m \u001b[38;5;28mprint\u001b[39m(dicom_files)\n\u001b[1;32m      9\u001b[0m \u001b[38;5;66;03m# Load a DICOM file\u001b[39;00m\n\u001b[0;32m---> 10\u001b[0m sample_file \u001b[38;5;241m=\u001b[39m dicom_files[\u001b[38;5;241m0\u001b[39m]\n\u001b[1;32m     11\u001b[0m ds \u001b[38;5;241m=\u001b[39m pydicom\u001b[38;5;241m.\u001b[39mdcmread(os\u001b[38;5;241m.\u001b[39mpath\u001b[38;5;241m.\u001b[39mjoin(dicom_folder, sample_file))\n\u001b[1;32m     12\u001b[0m \u001b[38;5;28mprint\u001b[39m(ds)\n",
      "\u001b[0;31mIndexError\u001b[0m: list index out of range"
     ]
    }
   ],
   "source": [
    "import pydicom\n",
    "import os\n",
    "\n",
    "dicom_folder = '/scratch/sd4175/fastmri_prostate_DICOMS_IDS_001_312'  \n",
    "\n",
    "dicom_files = [f for f in os.listdir(dicom_folder) if f.endswith('.dcm')] \n",
    "print(dicom_files)\n",
    "\n",
    "# Load a DICOM file\n",
    "sample_file = dicom_files[0]\n",
    "ds = pydicom.dcmread(os.path.join(dicom_folder, sample_file))\n",
    "print(ds)\n"
   ]
  },
  {
   "cell_type": "code",
   "execution_count": 1,
   "id": "4d3ee916-a95b-4f77-944e-221a3709f573",
   "metadata": {},
   "outputs": [
    {
     "name": "stdout",
     "output_type": "stream",
     "text": [
      "fastMRI loaded successfully!\n"
     ]
    }
   ],
   "source": [
    "import fastmri\n",
    "print(\"fastMRI loaded successfully!\")"
   ]
  },
  {
   "cell_type": "code",
   "execution_count": 11,
   "id": "3530a078-5167-4afb-bace-aa99df9ff2db",
   "metadata": {},
   "outputs": [],
   "source": [
    "import sys\n",
    "\n",
    "sys.path.append('/scratch/sd4175/my_env/fastMRI_prostate')"
   ]
  },
  {
   "cell_type": "code",
   "execution_count": 13,
   "id": "3c204ba7-e969-460c-9f35-3f0088486f80",
   "metadata": {},
   "outputs": [
    {
     "ename": "ModuleNotFoundError",
     "evalue": "No module named 'fastmri_prostate'",
     "output_type": "error",
     "traceback": [
      "\u001b[0;31m---------------------------------------------------------------------------\u001b[0m",
      "\u001b[0;31mModuleNotFoundError\u001b[0m                       Traceback (most recent call last)",
      "Cell \u001b[0;32mIn[13], line 9\u001b[0m\n\u001b[1;32m      6\u001b[0m \u001b[38;5;28;01mimport\u001b[39;00m \u001b[38;5;21;01mxml\u001b[39;00m\u001b[38;5;21;01m.\u001b[39;00m\u001b[38;5;21;01metree\u001b[39;00m\u001b[38;5;21;01m.\u001b[39;00m\u001b[38;5;21;01mElementTree\u001b[39;00m \u001b[38;5;28;01mas\u001b[39;00m \u001b[38;5;21;01metree\u001b[39;00m\n\u001b[1;32m      7\u001b[0m \u001b[38;5;66;03m# from fastmri_prostate.reconstruction.t2.prostate_t2_recon import t2_reconstruction\u001b[39;00m\n\u001b[1;32m      8\u001b[0m \u001b[38;5;66;03m# from fastmri_prostate.reconstruction.dwi.prostate_dwi_recon import dwi_reconstruction\u001b[39;00m\n\u001b[0;32m----> 9\u001b[0m \u001b[38;5;28;01mfrom\u001b[39;00m \u001b[38;5;21;01mfastmri_prostate\u001b[39;00m\u001b[38;5;21;01m.\u001b[39;00m\u001b[38;5;21;01mdata\u001b[39;00m\u001b[38;5;21;01m.\u001b[39;00m\u001b[38;5;21;01mmri_data\u001b[39;00m \u001b[38;5;28;01mimport\u001b[39;00m load_file_T2, load_file_dwi, save_recon\n\u001b[1;32m     10\u001b[0m \u001b[38;5;28;01mimport\u001b[39;00m \u001b[38;5;21;01mwarnings\u001b[39;00m\n\u001b[1;32m     11\u001b[0m \u001b[38;5;28;01mimport\u001b[39;00m \u001b[38;5;21;01mos\u001b[39;00m\n",
      "\u001b[0;31mModuleNotFoundError\u001b[0m: No module named 'fastmri_prostate'"
     ]
    }
   ],
   "source": [
    "import argparse\n",
    "import h5py\n",
    "import numpy as np\n",
    "from pathlib import Path\n",
    "from matplotlib import pyplot as plt\n",
    "import xml.etree.ElementTree as etree\n",
    "# from fastmri_prostate.reconstruction.t2.prostate_t2_recon import t2_reconstruction\n",
    "# from fastmri_prostate.reconstruction.dwi.prostate_dwi_recon import dwi_reconstruction\n",
    "from fastmri_prostate.data.mri_data import load_file_T2, load_file_dwi, save_recon\n",
    "import warnings\n",
    "import os\n",
    "warnings.filterwarnings('ignore')"
   ]
  },
  {
   "cell_type": "code",
   "execution_count": 9,
   "id": "ffd6c3c4-df8f-4b7e-be1f-01eeb98e5ca1",
   "metadata": {},
   "outputs": [
    {
     "name": "stdout",
     "output_type": "stream",
     "text": [
      "/home/sd4175\n"
     ]
    }
   ],
   "source": [
    "!pwd "
   ]
  },
  {
   "cell_type": "code",
   "execution_count": 11,
   "id": "3a016be5-1d89-424e-aed2-784fa6a9e247",
   "metadata": {},
   "outputs": [
    {
     "name": "stdout",
     "output_type": "stream",
     "text": [
      "CheXbert\t  flam_env\t models\n",
      "NegBio\t\t  flamingo-mini  overlay-15GB-500K.ext3\n",
      "chexpert-labeler  llama\t\t overlay-15GB-500K.ext3.gz\n",
      "fastMRI\t\t  llama-7b-hf\n",
      "fastMRI_prostate  med-flamingo\n"
     ]
    }
   ],
   "source": [
    "!ls /scratch/sd4175/my_env"
   ]
  },
  {
   "cell_type": "code",
   "execution_count": null,
   "id": "b4b2248a-c3fd-451a-9e4f-e81fb168af11",
   "metadata": {},
   "outputs": [],
   "source": []
  },
  {
   "cell_type": "code",
   "execution_count": null,
   "id": "91d89052-7d1a-44b3-b744-89adb86b23f2",
   "metadata": {},
   "outputs": [],
   "source": []
  }
 ],
 "metadata": {
  "kernelspec": {
   "display_name": "my_env",
   "language": "python",
   "name": "my_env"
  },
  "language_info": {
   "codemirror_mode": {
    "name": "ipython",
    "version": 3
   },
   "file_extension": ".py",
   "mimetype": "text/x-python",
   "name": "python",
   "nbconvert_exporter": "python",
   "pygments_lexer": "ipython3",
   "version": "3.11.4"
  }
 },
 "nbformat": 4,
 "nbformat_minor": 5
}

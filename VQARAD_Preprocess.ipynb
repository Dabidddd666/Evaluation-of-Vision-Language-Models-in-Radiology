{
 "cells": [
  {
   "cell_type": "code",
   "execution_count": 1,
   "metadata": {},
   "outputs": [
    {
     "name": "stderr",
     "output_type": "stream",
     "text": [
      "/ext3/miniconda3/lib/python3.11/site-packages/tqdm/auto.py:21: TqdmWarning: IProgress not found. Please update jupyter and ipywidgets. See https://ipywidgets.readthedocs.io/en/stable/user_install.html\n",
      "  from .autonotebook import tqdm as notebook_tqdm\n"
     ]
    }
   ],
   "source": [
    "from datasets import load_dataset\n",
    "from PIL import Image"
   ]
  },
  {
   "cell_type": "code",
   "execution_count": 2,
   "metadata": {},
   "outputs": [
    {
     "data": {
      "text/plain": [
       "DatasetDict({\n",
       "    train: Dataset({\n",
       "        features: ['image', 'question', 'answer'],\n",
       "        num_rows: 1793\n",
       "    })\n",
       "    test: Dataset({\n",
       "        features: ['image', 'question', 'answer'],\n",
       "        num_rows: 451\n",
       "    })\n",
       "})"
      ]
     },
     "execution_count": 2,
     "metadata": {},
     "output_type": "execute_result"
    }
   ],
   "source": [
    "vqa_rad = load_dataset('flaviagiammarino/vqa-rad')\n",
    "vqa_rad"
   ]
  },
  {
   "cell_type": "code",
   "execution_count": 3,
   "metadata": {},
   "outputs": [],
   "source": [
    "# Function to fetch data from a specific subset (train or test)\n",
    "def fetch_data_total(subset):\n",
    "    images = []\n",
    "    questions = []\n",
    "    answers = []\n",
    "\n",
    "    for item in vqa_rad[subset]:\n",
    "        images.append(item['image'])\n",
    "        questions.append(item['question'])\n",
    "        answers.append(item['answer'])\n",
    "\n",
    "    return images, questions, answers\n",
    "\n",
    "# Fetch data from the training set\n",
    "train_images, train_questions, train_answers = fetch_data_total('train')\n",
    "\n",
    "# Fetch data from the test set\n",
    "test_images, test_questions, test_answers = fetch_data_total('test')\n"
   ]
  },
  {
   "cell_type": "code",
   "execution_count": 4,
   "metadata": {},
   "outputs": [
    {
     "name": "stdout",
     "output_type": "stream",
     "text": [
      "Training set: 940 close-ended, 853 open-ended\n",
      "Testing set: 251 close-ended, 200 open-ended\n"
     ]
    }
   ],
   "source": [
    "# Function to classify into open/close ended questions\n",
    "def categorize_questions(dataset):\n",
    "    close_ended_questions = []\n",
    "    open_ended_questions = []\n",
    "\n",
    "    for entry in dataset:\n",
    "        if entry['answer'].lower() in ['yes', 'no']:\n",
    "            close_ended_questions.append(entry)\n",
    "        else:\n",
    "            open_ended_questions.append(entry)\n",
    "\n",
    "    return close_ended_questions, open_ended_questions\n",
    "\n",
    "# Assuming vqa_rad is your dataset with 'train' and 'test' splits\n",
    "train_close_ended, train_open_ended = categorize_questions(vqa_rad['train'])\n",
    "test_close_ended, test_open_ended = categorize_questions(vqa_rad['test'])\n",
    "\n",
    "# Displaying the number of each type\n",
    "print(f\"Training set: {len(train_close_ended)} close-ended, {len(train_open_ended)} open-ended\")\n",
    "print(f\"Testing set: {len(test_close_ended)} close-ended, {len(test_open_ended)} open-ended\")\n"
   ]
  },
  {
   "cell_type": "code",
   "execution_count": 11,
   "metadata": {},
   "outputs": [
    {
     "data": {
      "text/plain": [
       "200"
      ]
     },
     "execution_count": 11,
     "metadata": {},
     "output_type": "execute_result"
    }
   ],
   "source": [
    "test_open_ended_answer = []\n",
    "for i in test_open_ended:\n",
    "    test_open_ended_answer.append(i['answer'])  \n",
    "len(test_open_ended_answer)"
   ]
  },
  {
   "cell_type": "code",
   "execution_count": 12,
   "metadata": {},
   "outputs": [
    {
     "data": {
      "text/plain": [
       "251"
      ]
     },
     "execution_count": 12,
     "metadata": {},
     "output_type": "execute_result"
    }
   ],
   "source": [
    "test_close_ended_answer = []\n",
    "for i in test_close_ended:\n",
    "    test_close_ended_answer.append(i['answer'])\n",
    "len(test_close_ended_answer)"
   ]
  },
  {
   "cell_type": "code",
   "execution_count": null,
   "metadata": {},
   "outputs": [],
   "source": []
  }
 ],
 "metadata": {
  "kernelspec": {
   "display_name": "my_env",
   "language": "python",
   "name": "my_env"
  },
  "language_info": {
   "codemirror_mode": {
    "name": "ipython",
    "version": 3
   },
   "file_extension": ".py",
   "mimetype": "text/x-python",
   "name": "python",
   "nbconvert_exporter": "python",
   "pygments_lexer": "ipython3",
   "version": "3.11.4"
  }
 },
 "nbformat": 4,
 "nbformat_minor": 4
}

{
 "cells": [
  {
   "cell_type": "code",
   "execution_count": 3,
   "metadata": {},
   "outputs": [],
   "source": [
    "from huggingface_hub import hf_hub_download\n",
    "import torch\n",
    "from open_flamingo import create_model_and_transforms\n",
    "from accelerate import Accelerator\n",
    "from PIL import Image\n",
    "from src.utils import FlamingoProcessor\n",
    "from demo_utils import clean_generation"
   ]
  },
  {
   "cell_type": "code",
   "execution_count": 4,
   "metadata": {},
   "outputs": [
    {
     "name": "stderr",
     "output_type": "stream",
     "text": [
      "Detected kernel version 4.18.0, which is below the recommended minimum of 5.5.0; this can cause the process to hang. It is recommended to upgrade the kernel to the minimum version or higher.\n"
     ]
    },
    {
     "name": "stdout",
     "output_type": "stream",
     "text": [
      "Loading model...\n"
     ]
    },
    {
     "ename": "NameError",
     "evalue": "name 'model' is not defined",
     "output_type": "error",
     "traceback": [
      "\u001b[0;31m---------------------------------------------------------------------------\u001b[0m",
      "\u001b[0;31mNameError\u001b[0m                                 Traceback (most recent call last)",
      "Cell \u001b[0;32mIn[4], line 44\u001b[0m\n\u001b[1;32m     41\u001b[0m     \u001b[38;5;28mprint\u001b[39m(metrics)\n\u001b[1;32m     43\u001b[0m \u001b[38;5;28;01mif\u001b[39;00m \u001b[38;5;18m__name__\u001b[39m \u001b[38;5;241m==\u001b[39m \u001b[38;5;124m\"\u001b[39m\u001b[38;5;124m__main__\u001b[39m\u001b[38;5;124m\"\u001b[39m:\n\u001b[0;32m---> 44\u001b[0m     main()\n",
      "Cell \u001b[0;32mIn[4], line 35\u001b[0m, in \u001b[0;36mmain\u001b[0;34m()\u001b[0m\n\u001b[1;32m     32\u001b[0m few_shot_prompt \u001b[38;5;241m=\u001b[39m construct_few_shot_prompt(vqa_rad_data)\n\u001b[1;32m     34\u001b[0m \u001b[38;5;66;03m# Generate predictions\u001b[39;00m\n\u001b[0;32m---> 35\u001b[0m predictions \u001b[38;5;241m=\u001b[39m generate_predictions(model, processor, few_shot_prompt)\n\u001b[1;32m     37\u001b[0m \u001b[38;5;66;03m# Evaluate predictions\u001b[39;00m\n\u001b[1;32m     38\u001b[0m metrics \u001b[38;5;241m=\u001b[39m evaluate_predictions(predictions, vqa_rad_data[\u001b[38;5;124m'\u001b[39m\u001b[38;5;124mground_truths\u001b[39m\u001b[38;5;124m'\u001b[39m])\n",
      "\u001b[0;31mNameError\u001b[0m: name 'model' is not defined"
     ]
    }
   ],
   "source": [
    "def load_and_preprocess_vqa_rad_data():\n",
    "    # Load VQA-RAD dataset\n",
    "    # Preprocess images and questions\n",
    "    # Return processed data\n",
    "    pass\n",
    "\n",
    "def construct_few_shot_prompt(vqa_rad_data):\n",
    "    # Construct few-shot prompt with VQA-RAD data\n",
    "    pass\n",
    "\n",
    "def generate_predictions(model, processor, few_shot_prompt):\n",
    "    # Generate answers from the model using the few-shot prompt\n",
    "    pass\n",
    "\n",
    "def evaluate_predictions(predictions, ground_truths):\n",
    "    # Compare predictions to ground truths\n",
    "    # Calculate evaluation metrics\n",
    "    pass\n",
    "\n",
    "def main():\n",
    "    accelerator = Accelerator()\n",
    "    device = accelerator.device\n",
    "    print('Loading model...')\n",
    "\n",
    "    # Load and prepare the Med-Flamingo model\n",
    "    # ...\n",
    "\n",
    "    # Load and preprocess VQA-RAD data\n",
    "    vqa_rad_data = load_and_preprocess_vqa_rad_data()\n",
    "\n",
    "    # Construct few-shot prompt\n",
    "    few_shot_prompt = construct_few_shot_prompt(vqa_rad_data)\n",
    "\n",
    "    # Generate predictions\n",
    "    predictions = generate_predictions(model, processor, few_shot_prompt)\n",
    "\n",
    "    # Evaluate predictions\n",
    "    metrics = evaluate_predictions(predictions, vqa_rad_data['ground_truths'])\n",
    "\n",
    "    # Output results\n",
    "    print(metrics)\n",
    "\n",
    "if __name__ == \"__main__\":\n",
    "    main()\n"
   ]
  },
  {
   "cell_type": "code",
   "execution_count": null,
   "metadata": {},
   "outputs": [],
   "source": []
  }
 ],
 "metadata": {
  "kernelspec": {
   "display_name": "my_env",
   "language": "python",
   "name": "my_env"
  },
  "language_info": {
   "codemirror_mode": {
    "name": "ipython",
    "version": 3
   },
   "file_extension": ".py",
   "mimetype": "text/x-python",
   "name": "python",
   "nbconvert_exporter": "python",
   "pygments_lexer": "ipython3",
   "version": "3.11.4"
  }
 },
 "nbformat": 4,
 "nbformat_minor": 4
}
